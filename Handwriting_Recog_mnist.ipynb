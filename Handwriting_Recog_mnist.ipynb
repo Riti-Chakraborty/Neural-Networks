{
 "cells": [
  {
   "cell_type": "markdown",
   "metadata": {},
   "source": [
    "# Assignment1:\n",
    "\n",
    "Neural Network Implementation on Moon's Dataset\n",
    "Handwritting Recognition from MNIST Dataset(Numbers given 3&5)\n"
   ]
  },
  {
   "cell_type": "code",
   "execution_count": 1,
   "metadata": {},
   "outputs": [
    {
     "name": "stderr",
     "output_type": "stream",
     "text": [
      "c:\\users\\riti chakraborty\\appdata\\local\\programs\\python\\python36-32\\lib\\site-packages\\sklearn\\cross_validation.py:41: DeprecationWarning: This module was deprecated in version 0.18 in favor of the model_selection module into which all the refactored classes and functions are moved. Also note that the interface of the new CV iterators are different from that of this module. This module will be removed in 0.20.\n",
      "  \"This module will be removed in 0.20.\", DeprecationWarning)\n",
      "c:\\users\\riti chakraborty\\appdata\\local\\programs\\python\\python36-32\\lib\\site-packages\\sklearn\\learning_curve.py:22: DeprecationWarning: This module was deprecated in version 0.18 in favor of the model_selection module into which all the functions are moved. This module will be removed in 0.20\n",
      "  DeprecationWarning)\n"
     ]
    }
   ],
   "source": [
    "# Calling the Required libraries\n",
    "\n",
    "import pandas as pd\n",
    "import matplotlib.pyplot as plt \n",
    "import numpy as np\n",
    "from mnist import MNIST\n",
    "import matplotlib.cm as cm\n",
    "from numpy.random import randn\n",
    "from sklearn import metrics\n",
    "from sklearn import preprocessing, utils\n",
    "\n",
    "#For reading MNIST Dataset\n",
    "import gzip\n",
    "import sklearn.learning_curve\n",
    "import matplotlib.pyplot as plt\n",
    "\n",
    "#For creating Confution Matrix\n",
    "import seaborn as sb"
   ]
  },
  {
   "cell_type": "code",
   "execution_count": 2,
   "metadata": {},
   "outputs": [],
   "source": [
    "#Moons Data - Reading from CSV \n",
    "# Using Pandas read CSV to import the dataset\n",
    "moon = pd.read_csv('moons400.csv')\n",
    "\n",
    "# With the help of Utils libraries, the data is shuffled which is later on divided in training and testing data.\n",
    "moon = utils.shuffle(moon)\n",
    "\n",
    "#Seperating out Attributes and classes\n",
    "X=moon[['X0', 'X1']].as_matrix()\n",
    "y=moon[['Class']].as_matrix()\n",
    "\n",
    "#Dividing the data into training and Testing\n",
    "Test_Moon = X[0:100,]\n",
    "Train_Moon = X[101:400,]\n",
    "label_test = y[0:100,]\n",
    "label_train = y[101:400,]\n"
   ]
  },
  {
   "cell_type": "code",
   "execution_count": 3,
   "metadata": {},
   "outputs": [
    {
     "name": "stdout",
     "output_type": "stream",
     "text": [
      "Extracting C:/Users/Riti Chakraborty/AppData/Local/Programs/Python/Python36-32/Scripts/GZ_IP/train-images-idx3-ubyte.gz\n",
      "Extracting C:/Users/Riti Chakraborty/AppData/Local/Programs/Python/Python36-32/Scripts/GZ_IP/train-labels-idx1-ubyte.gz\n",
      "Extracting C:/Users/Riti Chakraborty/AppData/Local/Programs/Python/Python36-32/Scripts/GZ_IP/t10k-images-idx3-ubyte.gz\n",
      "Extracting C:/Users/Riti Chakraborty/AppData/Local/Programs/Python/Python36-32/Scripts/GZ_IP/t10k-labels-idx1-ubyte.gz\n"
     ]
    }
   ],
   "source": [
    "#MNIST Dataset\n",
    "\n",
    "\n",
    "###################The code snippet for reading the gzip files(MNIST Data) has been taken from github.##############################\n",
    "WORK_DIRECTORY = 'data'\n",
    "IMAGE_SIZE = 28\n",
    "NUM_CHANNELS = 1\n",
    "PIXEL_DEPTH = 255\n",
    "NUM_LABELS = 10\n",
    "def extract_data(filename, num_images):\n",
    " \n",
    "  print('Extracting', filename)\n",
    "  with gzip.open(filename) as bytestream:\n",
    "    bytestream.read(16)\n",
    "    buf = bytestream.read(28 * 28 * num_images)\n",
    "    data = np.frombuffer(buf, dtype=np.uint8).astype(np.float32)\n",
    "    data = data.reshape(num_images, 28, 28, 1)\n",
    "    return data\n",
    "\n",
    "\n",
    "def extract_labels(filename, num_images):\n",
    "  \"\"\"Extract the labels into a vector of int64 label IDs.\"\"\"\n",
    "  print('Extracting', filename)\n",
    "  with gzip.open(filename) as bytestream:\n",
    "    bytestream.read(8)\n",
    "    buf = bytestream.read(1 * num_images)\n",
    "    labels = np.frombuffer(buf, dtype=np.uint8).astype(np.int64)\n",
    "  return labels\n",
    "\n",
    "train_data = extract_data(\"C:/Users/Riti Chakraborty/AppData/Local/Programs/Python/Python36-32/Scripts/GZ_IP/train-images-idx3-ubyte.gz\", 60000)\n",
    "train_labels = extract_labels(\"C:/Users/Riti Chakraborty/AppData/Local/Programs/Python/Python36-32/Scripts/GZ_IP/train-labels-idx1-ubyte.gz\", 60000)\n",
    "test_data = extract_data(\"C:/Users/Riti Chakraborty/AppData/Local/Programs/Python/Python36-32/Scripts/GZ_IP/t10k-images-idx3-ubyte.gz\", 10000)\n",
    "test_labels = extract_labels(\"C:/Users/Riti Chakraborty/AppData/Local/Programs/Python/Python36-32/Scripts/GZ_IP/t10k-labels-idx1-ubyte.gz\", 10000)\n",
    "#######################The code snippet for reading the gzip files has been taken from github.##############################\n",
    "\n",
    "\n",
    "#Reshaping the Imported data as per requirement.\n",
    "X_train11 = pd.DataFrame(np.array(train_data).reshape(60000,784))\n",
    "y_train11 = pd.DataFrame(np.array(train_labels).reshape(60000,1))\n",
    "\n",
    "X_test1 = pd.DataFrame(np.array(test_data).reshape(10000,784))\n",
    "y_test1 = pd.DataFrame(np.array(test_labels).reshape(10000,1))\n"
   ]
  },
  {
   "cell_type": "code",
   "execution_count": 4,
   "metadata": {},
   "outputs": [],
   "source": [
    "#Data Cleaning: Extracting the data have 3 & 5 as labels\n",
    "#Training Data\n",
    "X_train11['label'] = y_train11[0]\n",
    "type(X_train11)\n",
    "Tf=X_train11.loc[X_train11['label']==3]\n",
    "Tf2=X_train11.loc[X_train11['label']==5]\n",
    "Training_Final=Tf.append(Tf2)\n",
    "\n",
    "#Assigning 3 to 1 and 5 to 0\n",
    "#For binary classification\n",
    "Training_Final['label'] = Training_Final['label'].map({3: 1, 5: 0})\n",
    "Training_Final\n",
    "Training_Final.shape\n",
    "X__train=Training_Final.drop('label', axis=1).as_matrix()\n",
    "y__train=Training_Final[['label']].as_matrix()\n",
    "\n",
    "#Data Cleaning: Extracting the data have 3 & 5 as labels\n",
    "#Testing Data\n",
    "X_test1['label'] = y_test1[0]\n",
    "type(X_test1)\n",
    "Tf_3=X_test1.loc[X_test1['label']==3]\n",
    "Tf_5=X_test1.loc[X_test1['label']==5]\n",
    "Test_final=Tf_3.append(Tf_5)\n",
    "\n",
    "\n",
    "#Assigning 3 to 1 and 5 to 0\n",
    "#For binary classification\n",
    "Test_final['label'] = Test_final['label'].map({3: 1, 5: 0})\n",
    "#Test_final\n",
    "#Test_final.shape\n",
    "X__test=Test_final.drop('label', axis=1).as_matrix()\n",
    "y__test=Test_final[['label']].as_matrix()\n"
   ]
  },
  {
   "cell_type": "markdown",
   "metadata": {},
   "source": [
    "# Algorithm:\n",
    "\n",
    "1. Our Neural Network has three layers i.e. one input layer with no. of nodes equal to the number of attributes. \n",
    "2. For moon's dataset no of attrs = 2 (X0 & X1) therefore input node=2. \n",
    "3. For MNIST Dataset no of attr = 784 there input nodes = 784\n",
    "4. The second layer is the hidden layer. It has 5 hidden nodes.\n",
    "5. The Output layer. It has one node for binary classification.\n",
    "\n"
   ]
  },
  {
   "cell_type": "markdown",
   "metadata": {},
   "source": [
    "Sigmoid Function : Activation Function\n",
    "In Artificial Neural network , Linear combination of input is calculated and applied to activation function. The basic function of Sigmoid is to add the non linearity. In absense of such activation function, the neural network will only work for linear models and not for non linear models.\n"
   ]
  },
  {
   "cell_type": "code",
   "execution_count": 5,
   "metadata": {},
   "outputs": [],
   "source": [
    "#Defining the Sigmoid Function\n",
    "def sigmoid(x, derive=False):\n",
    "    if derive==True:\n",
    "        return x * (1 - x)\n",
    "    return 1 / (1 + np.exp(-x))\n",
    "\n"
   ]
  },
  {
   "cell_type": "code",
   "execution_count": 6,
   "metadata": {},
   "outputs": [],
   "source": [
    "\n",
    "#Calculating the total length of seperate datsets (Moon's Data)\n",
    "moon_total_train_labelsize = len(label_train)\n",
    "moon_total_test_labelsize = len(label_test)\n",
    "\n",
    "#Calculating the total length of seperate datsets (Mnist Data)\n",
    "mnist_total_train_labelsize = len(y__train)\n",
    "mnist_total_test_labelsize = len(y__test)\n",
    "\n"
   ]
  },
  {
   "cell_type": "markdown",
   "metadata": {},
   "source": [
    "Feed Forward ( Forward Propagation )\n",
    "Feed forward neural netwroks are the ones in which the input only flows in one forward direction. There is no feedback and thus called as Forward propagation. In the code below, the neural network is having 3 layers: Input, one hidden and one output layer.\n",
    "\n",
    "Initially the random weights are assigned and by adding the bias to the product of weight and input, the output fromt the first layer is obtained. The output is then passed to the sigmoid activation function. The similar steps are carried out in the hidden layer and the output z22 is obtained.\n",
    "\n",
    "The Calculation are carried out as follows: Below are the notations used:\n",
    "\n",
    "h: output a: Activation functions w: Weights x: input b: Bias\n",
    "\n",
    "First the activation functions are calculated as: a12( Activation of first node in 2nd layer, i.e, hidden layer )= function(W11x1+ w12x2 + b1) a22= function(W21x1+w22x2+b2)\n",
    "\n",
    "The output is :\n",
    "\n",
    "h= weightsactivationfunction + bias*\n",
    "\n",
    "\n",
    "Back Propagation\n",
    "Back propogation is usually carried out in feed forward neural network for training purpose. The output from the feed forward neural network is checked against the actual required output to find the error. Then with the help of back propogation, the wieghts are adjusted so as to reduce the loss and increase the accuracy in training the model.\n",
    "The backpropagation algorithm works as follows:\n",
    "\n",
    "1. Initialize the weights to random numbers. Repeat until convergence or max iterations. repeat for each training example(1 epoch)\n",
    "\n",
    "2. The new weights are calculated by subtracting the product of error and output of next layer and learning rate.\n",
    "\n",
    "3. New Weight= Original Weight - learning ate ( output * error term )\n",
    "\n",
    "\n",
    "\n",
    "Learning Rate\n",
    "The value of cost function is minimized with the help of gradient descent function.The function is used to get the minimum value of the cost function and reach the convergence by taking the steps “downhill” controlled by alpha called as learning rate.\n",
    "\n"
   ]
  },
  {
   "cell_type": "code",
   "execution_count": 7,
   "metadata": {},
   "outputs": [],
   "source": [
    "### TRAINING NEURAL NETWORK\n",
    "#Setting output node to 1\n",
    "outputnodes = 1 \n",
    "\n",
    "\n",
    "#defining a function to program the network\n",
    "def network(inputnodes, hiddennodes, epoch, x, y, ls, learningrate):\n",
    "   \n",
    "    #Initialising random seed\n",
    "    np.random.seed(60)\n",
    "    \n",
    "    #Assigning Weights randomly to the nodes in layers\n",
    "    W1 = np.random.randn(inputnodes, hiddennodes) \n",
    "    W1 = W1/np.amax(W1)\n",
    "    b1 = np.ones((1, hiddennodes))\n",
    "    W2 = np.random.randn(hiddennodes, 1)\n",
    "    W2 = W2/np.amax(W2)\n",
    "    b2 = np.ones((1, 1))\n",
    "\n",
    "\n",
    "    #Creating a tuple to store the final weights and biases\n",
    "    finalWeightsandbiases = {}\n",
    "    \n",
    "    #Implementing Gradient Descent: Passing the entire dataset in each iteration.\n",
    "    for i in range(epoch):\n",
    "\n",
    "        #Forward Propagation Algorithm\n",
    "        #Layer1\n",
    "        z11= sigmoid(np.dot(x, W1) + b1)\n",
    "        \n",
    "        #Layer2\n",
    "        z22= sigmoid(np.dot(z11, W2) + b2)#layer2\n",
    "    \n",
    "        #Calculating error in prediction\n",
    "        Train_error = y - np.round(np.absolute(z22))\n",
    "          \n",
    "        #Calculation total number of correct predictions\n",
    "        correctpred = [num for num in Train_error if np.any(num) == 0 ]\n",
    "        \n",
    "        #Implementing Back Propagation\n",
    "        #Output to hidden\n",
    "        delta2 = (z22 - y) * sigmoid(z22)\n",
    "        W2 = W2 - learningrate * (z11.T.dot(delta2))\n",
    "        b2 = b2 - learningrate * np.sum(delta2)\n",
    "        ############\n",
    "        \n",
    "        #hidden to Input layer\n",
    "        delta1 = (delta2.dot(W2.T)) * sigmoid(z11)\n",
    "        W1 = W1 - learningrate * (x.T.dot(delta1))\n",
    "        b1 = b1 - learningrate * np.sum(delta1)\n",
    "        ############\n",
    "        \n",
    "        #Updating th Tuple\n",
    "        finalWeightsandbiases = (W1,b1,W2,b2)\n",
    "    \n",
    "    #Printing Accuracy  \n",
    "    Train_Accuracy = (len(correctpred)/ls)*100\n",
    "    print(\"Training Set Accuracy:\", Train_Accuracy)    \n",
    "    \n",
    "    #returning the Weights and Biases.\n",
    "    return finalWeightsandbiases\n",
    "    \n",
    "   \n",
    "    \n",
    "    "
   ]
  },
  {
   "cell_type": "code",
   "execution_count": 8,
   "metadata": {},
   "outputs": [],
   "source": [
    "\n",
    "def predict_Testdata(finalWeightsandbiases, x, y, ls):\n",
    "    \n",
    "    #Pred are the lists created\n",
    "    #Pred is for storing the predicted labels\n",
    "    pred=[]\n",
    "    \n",
    "    #Initialising weights and biases to a tuple\n",
    "    W1, b1, W2, b2 = finalWeightsandbiases\n",
    "    \n",
    "    # Forward propagation\n",
    "    z11 = np.dot(x,W1) + b1\n",
    "    a1 = sigmoid(z11)\n",
    "    z22 = sigmoid(np.dot(a1,W2) + b2)\n",
    "    \n",
    "    # Calculating the errors by subtracting the predicted result from the actual one. *np.round & np.absolute* functions are used\n",
    "    # to get the absolute rounded value of the output.\n",
    "    Test_error = y - np.round(np.absolute(z22))\n",
    "    \n",
    "    #appending the predicted results to pred[]\n",
    "    pred.append(np.round(np.absolute(z22)))\n",
    "  \n",
    "    # Correctly predicted results are checked below by checking the result of the Test error. If the result is correctly predicted\n",
    "    # the output of the test error would be 0 and hence later on the length of the correctTest pred is used to calculate the accuracy.\n",
    "    correctTestpred = [n for n in Test_error if np.any(n) == 0 ]\n",
    "    \n",
    "    # Accuracy of the trained model is calculated below.\n",
    "    # It is calculated by checking the number of correctly predicted results over the total number of results.\n",
    "    Test_Accuracy = (len(correctTestpred)/ls)*100\n",
    "    print(\"Testing Set Accuracy:\", Test_Accuracy)\n",
    "    \n",
    "    \n",
    "    #plot confusion matrix\n",
    "    # Confusion matrix is the visualization of the performance of the model. It is the matrix plot having the counts of actual results \n",
    "    # and predicted results.\n",
    "    # The confusion matrix is obtained using the matplotlib and seaborn library.\n",
    "    ax=plt.axes()\n",
    "    arr = metrics.confusion_matrix(y, np.round(z22), sample_weight=None)\n",
    "    con_df = pd.DataFrame(arr, columns = [\"Predicted_0\", \"Predicted_1\"],index=[\"Actual_0\", \"Actual_1\"])\n",
    "    sb.heatmap(con_df, annot=True,annot_kws={\"size\": 8}, fmt='g', cmap='Blues', ax=ax)\n",
    "    ax.set_title('Confusion Matrix - Test Phase')\n",
    "    plt.show()\n",
    "     \n",
    "    return pred"
   ]
  },
  {
   "cell_type": "code",
   "execution_count": 9,
   "metadata": {},
   "outputs": [],
   "source": [
    "#Setting number of epochs to 40. This is means thats the entire dataset will be train 40 times. Processing the whole data is also \n",
    "#also known as gradient descent.\n",
    "epoch=40"
   ]
  },
  {
   "cell_type": "code",
   "execution_count": 10,
   "metadata": {
    "scrolled": true
   },
   "outputs": [
    {
     "name": "stdout",
     "output_type": "stream",
     "text": [
      "Moon's Data \n",
      "Training Set Accuracy: 75.91973244147158\n",
      "Testing Set Accuracy: 81.0\n"
     ]
    },
    {
     "data": {
      "image/png": "[encoded data removed]",
      "text/plain": [
       "<matplotlib.figure.Figure at 0xc6f5e10>"
      ]
     },
     "metadata": {},
     "output_type": "display_data"
    }
   ],
   "source": [
    "#Training and testing Moon's Data\n",
    "########################################### BY: SHREYA NAGARKAR #####################################################\n",
    "print(\"Moon's Data \")\n",
    "outputMoon = network(2, 5, epoch,Train_Moon,label_train, moon_total_train_labelsize, learningrate=0.001)\n",
    "TestModel = predict_Testdata(outputMoon,Test_Moon,label_test,moon_total_test_labelsize)\n",
    "#print(TestModel)"
   ]
  },
  {
   "cell_type": "markdown",
   "metadata": {},
   "source": [
    "# Observation on Moon's Dataset\n",
    "### by: Shreya\n",
    "1. Accuracy obtained is 79% on Training Data and 71% on Testing Data. We can say the algorithm performed fairly well but it did fail to predict some labels. \n",
    "\n",
    "2. From the confusion matrix it is observed that 29 input entries were wrongly predicted out of 100 input entries from the test data.\n"
   ]
  },
  {
   "cell_type": "code",
   "execution_count": 11,
   "metadata": {},
   "outputs": [
    {
     "name": "stdout",
     "output_type": "stream",
     "text": [
      "Mnist's Data \n"
     ]
    },
    {
     "name": "stderr",
     "output_type": "stream",
     "text": [
      "c:\\users\\riti chakraborty\\appdata\\local\\programs\\python\\python36-32\\lib\\site-packages\\ipykernel_launcher.py:5: RuntimeWarning: overflow encountered in exp\n",
      "  \"\"\"\n"
     ]
    },
    {
     "name": "stdout",
     "output_type": "stream",
     "text": [
      "Training Set Accuracy: 91.94944598337949\n",
      "Testing Set Accuracy: 93.37539432176656\n"
     ]
    },
    {
     "data": {
      "image/png": "[encoded data removed]",
      "text/plain": [
       "<matplotlib.figure.Figure at 0xc6f5a90>"
      ]
     },
     "metadata": {},
     "output_type": "display_data"
    }
   ],
   "source": [
    "#Training and testing MNIST Data\n",
    "print(\"Mnist's Data \")\n",
    "outputdigits = network(784, 3, epoch, X__train, y__train, mnist_total_train_labelsize, learningrate=0.0001)\n",
    "TestModel = predict_Testdata(outputdigits,X__test,y__test, mnist_total_test_labelsize)"
   ]
  },
  {
   "cell_type": "markdown",
   "metadata": {},
   "source": [
    "# Observation on MNIST Dataset\n",
    "We are classifying between 3 and 5\n",
    "1. From the confusion matrix it is observed that, out of 1902 records 1776 records were correctly classified.\n",
    "2. Therefore the accuracy is good for both Training Set as well as testing set."
   ]
  },
  {
   "cell_type": "markdown",
   "metadata": {},
   "source": [
    "# Enhancement 1\n",
    "\n",
    "The function of the model above is optimized by Minibatch Gradient Descent Algorithm. In minibatch gradient descent algorithm, instead of sending the complete data, it is sent in batches and the model is built and tested. The batch size taken is 1150 and the total data is 11552. Hence, The minibatch gradient loop is worked for 10 times. Initially the data of 1150 rows is taken as a first minibatch and later on from 1151 to 2230 and so on. The test and train data is taken in this manner in minibatches and model is trained and tested for 40 epochs. The advantage of using minibatch gradient descent algorithm is , since the data is taken in batches, the convergence is calculated for each batch and also the computation time of the model decreases.\n",
    "\n",
    "Reference : https://www.cs.toronto.edu/~tijmen/csc321/slides/lecture_slides_lec6.pdf"
   ]
  },
  {
   "cell_type": "code",
   "execution_count": 12,
   "metadata": {},
   "outputs": [],
   "source": [
    "# Setting the number of epochs\n",
    "epoch = 40\n",
    "# Defining the function prediction where the input parameter passed as features, labels, learning rate and the model trained. \n",
    "def predict_enhanced(model, x, y, ls):\n",
    "    \n",
    "# Pred and Test_error are the lists created\n",
    "    pred=[]\n",
    "    W1, b1, W2, b2 = model\n",
    "    Test_error=[]\n",
    "    \n",
    "#Forward propagation\n",
    "\n",
    "    z11 = np.dot(x,W1) + b1\n",
    "    a1 = sigmoid(z11)\n",
    "    z22 = sigmoid(np.dot(a1,W2) + b2)\n",
    "    \n",
    "# Calculating the errors by subtracting the predicted result from the actual one. *np.round & np.absolute* functions are used\n",
    "# to get the absolute rounded value of the output.\n",
    "\n",
    "    Test_error = y- np.round(np.absolute(z22))\n",
    "    \n",
    "# Correctly predicted results are checked below by checking the result of the Test error. If the result is correctly predicted\n",
    "# the output of the test error would be 0 and hence later on the length of the correctTest pred is used to calculate the accuracy.\n",
    "    correctTestpred = [n for n in Test_error if np.any(n) == 0 ]\n",
    "    \n",
    "# Accuracy of the trained model is calculated below.\n",
    "# It is calculated by checking the number of correctly predicted results over the total number of results.\n",
    "    accuracy=(len(correctTestpred)/ls)*100 \n",
    "    return accuracy\n",
    "\n",
    "\n",
    "def build_model_enhanced(inputnodes,hiddennodes,epoch, x, y, ls, learningrate):\n",
    "    \n",
    "    np.random.seed(9)    \n",
    "    # Initializing weights and biases.\n",
    "    W1 = np.random.randn(inputnodes, hiddennodes)\n",
    "    W1 = W1/np.amax(W1)\n",
    "    b1 = np.ones((1, hiddennodes))\n",
    "    W2 = np.random.randn(hiddennodes, 1)\n",
    "    W2 = W2/np.amax(W2)\n",
    "    b2 = np.ones((1, 1))\n",
    "\n",
    "\n",
    "    model = {}\n",
    "    accuracy = []\n",
    "    for i in range(epoch):\n",
    "\n",
    "        # Forward propagation\n",
    "        #Calculating the output from the first layer\n",
    "        z11= sigmoid(np.dot(x, W1) + b1)\n",
    "        # Calculating the output from the second layer\n",
    "        z22= sigmoid(np.dot(z11, W2) + b2)#layer2\n",
    "        #Error is calculated by decreasing the predicted value of the output from the actual one.\n",
    "        Train_error = y - np.round(np.absolute(z22))\n",
    "        # Calculating the accuracy.\n",
    "        #If both, actual and predicted value matches, the difference would be 0 and this is used to calculate the accuracy.\n",
    "        correctpred = [num for num in Train_error if np.any(num) == 0 ]\n",
    "     \n",
    "        # Backpropagation\n",
    "        #Output to hidden\n",
    "        delta2 = (z22 - y) * sigmoid(z22)\n",
    "        # Updating weights and biases\n",
    "        W2 = W2 - learningrate * (z11.T.dot(delta2))\n",
    "        b2 = b2 - learningrate * np.sum(delta2)\n",
    "        ############\n",
    "        #hidden to Input layer\n",
    "        delta1 = (delta2.dot(W2.T)) * sigmoid(z11)\n",
    "        W1 = W1 - learningrate * (x.T.dot(delta1))\n",
    "        b1 = b1 - learningrate * np.sum(delta1)\n",
    "        ############\n",
    "        # The updated weights and biases are returned which are used to predict. model{} consists of updated weights and biases.\n",
    "        model = (W1,b1,W2,b2)\n",
    "         \n",
    "    return model\n",
    "    "
   ]
  },
  {
   "cell_type": "markdown",
   "metadata": {},
   "source": [
    "Observation:\n",
    "The above model is trained and tested for the given Mnists' dataset. The accuracy in testing is observed to be (~82 %)"
   ]
  },
  {
   "cell_type": "code",
   "execution_count": 13,
   "metadata": {},
   "outputs": [
    {
     "name": "stderr",
     "output_type": "stream",
     "text": [
      "c:\\users\\riti chakraborty\\appdata\\local\\programs\\python\\python36-32\\lib\\site-packages\\ipykernel_launcher.py:5: RuntimeWarning: overflow encountered in exp\n",
      "  \"\"\"\n"
     ]
    },
    {
     "name": "stdout",
     "output_type": "stream",
     "text": [
      "Accuracy of the model after applying minibatch gradient descent is:   81.80862250262881\n"
     ]
    }
   ],
   "source": [
    "# Setting the number of iterations and size of a minibatch\n",
    "Mtesting=[]\n",
    "\n",
    "for minibatch_size in [500, 1000, 1500, 2000, 3000, 4000, 7000, 8000, 10000, 11552]:\n",
    "    i = 0\n",
    "    X__train_mini = X__train[i:i + minibatch_size]\n",
    "    y__train_mini = y__train[i:i + minibatch_size]\n",
    "    Mtr = build_model_enhanced(784,5,40,X__train_mini, y__train_mini,mnist_total_test_labelsize,learningrate=0.0001)            \n",
    "    #i=minibatch_size\n",
    "Mts=predict_enhanced(Mtr, X__test, y__test, mnist_total_test_labelsize)\n",
    "Mtesting.append(Mts)    \n",
    "            \n",
    "#Printing the final accuracy for the testing data\n",
    "print(\"Accuracy of the model after applying minibatch gradient descent is:  \", np.mean(Mtesting))"
   ]
  },
  {
   "cell_type": "markdown",
   "metadata": {},
   "source": [
    "# Enhancement 2\n",
    "1. Regularization is basically used to prevent overfitting. \n",
    "2. Model overfitting happens when the neural network is trained excessively.\n",
    "3. This causes neural network perform very well on training data but poorly on testing data. \n",
    "4. Regularization helps in reducing the variance of the weight so as to decrease the error.\n",
    "5. In the algorithm below the regularization_coefm is added to the Weights generated in order to handle the spread of the values after assigning random weights before building the model."
   ]
  },
  {
   "cell_type": "code",
   "execution_count": 14,
   "metadata": {},
   "outputs": [],
   "source": [
    "   ### TRAINING NEURAL NETWORK\n",
    "#Setting output node to 1\n",
    "outputnodes = 1 \n",
    "regularization_coeff = 0.01\n",
    "#defining a function to program the network\n",
    "def networkRiti(inputnodes, hiddennodes, epoch, x, y, ls, learningrate):\n",
    "   \n",
    "    #Initialising random seed\n",
    "    np.random.seed(60)\n",
    "    \n",
    "    #Assigning Weights randomly to the nodes in layers\n",
    "    W1 = np.random.randn(inputnodes, hiddennodes) \n",
    "    W1 = W1/np.amax(W1)\n",
    "    b1 = np.ones((1, hiddennodes))\n",
    "    W2 = np.random.randn(hiddennodes, 1)\n",
    "    W2 = W2/np.amax(W2)\n",
    "    b2 = np.ones((1, 1))\n",
    "\n",
    "\n",
    "    #Creating a tuple to store the final weights and biases\n",
    "    finalWeightsandbiases = {}\n",
    "    \n",
    "    #Implementing Gradient Descent: Passing the entire dataset in each iteration.\n",
    "    for i in range(epoch):\n",
    "\n",
    "        #Forward Propagation Algorithm\n",
    "        #Layer1\n",
    "        z11= sigmoid(np.dot(x, W1) + b1)\n",
    "        \n",
    "        #Layer2\n",
    "        z22= sigmoid(np.dot(z11, W2) + b2)#layer2\n",
    "    \n",
    "        #Calculating error in prediction\n",
    "        Train_error = y - np.round(np.absolute(z22))\n",
    "          \n",
    "        #Calculation total number of correct predictions\n",
    "        correctpred = [num for num in Train_error if np.any(num) == 0 ]\n",
    "       \n",
    "        #Back Propagation\n",
    "        #Output to hidden\n",
    "        #Applying Regularization term - enhancement\n",
    "        delta2 = (z22 - y) * sigmoid(z22)\n",
    "        W2 = W2 + regularization_coeff * W2\n",
    "        W2 = W2 - learningrate * (z11.T.dot(delta2))\n",
    "        b2 = b2 - learningrate * np.sum(delta2)\n",
    "        \n",
    "        #hidden to Input layer\n",
    "        delta1 = (delta2.dot(W2.T)) * sigmoid(z11)\n",
    "        W1 = W1 + regularization_coeff * W1\n",
    "        W1 = W1 - learningrate * (x.T.dot(delta1))\n",
    "        b1 = b1 - learningrate * np.sum(delta1)\n",
    "        ############\n",
    "        \n",
    "        #Updating the final weights and biases\n",
    "        finalWeightsandbiases = (W1,b1,W2,b2)\n",
    "        \n",
    "        \n",
    "    Train_Accuracy = (len(correctpred)/ls)*100\n",
    "\n",
    "    print(\"Training Set Accuracy:\", Train_Accuracy)    \n",
    "    #plt.plot(accuracy)\n",
    "    #plt.ylabel('Accuracy')\n",
    "    #plt.show()\n",
    "    return finalWeightsandbiases\n",
    "    \n",
    "   "
   ]
  },
  {
   "cell_type": "code",
   "execution_count": 15,
   "metadata": {},
   "outputs": [
    {
     "name": "stdout",
     "output_type": "stream",
     "text": [
      "Mnist's Data \n"
     ]
    },
    {
     "name": "stderr",
     "output_type": "stream",
     "text": [
      "c:\\users\\riti chakraborty\\appdata\\local\\programs\\python\\python36-32\\lib\\site-packages\\ipykernel_launcher.py:5: RuntimeWarning: overflow encountered in exp\n",
      "  \"\"\"\n"
     ]
    },
    {
     "name": "stdout",
     "output_type": "stream",
     "text": [
      "Training Set Accuracy: 92.41689750692521\n",
      "Testing Set Accuracy: 93.84858044164038\n"
     ]
    },
    {
     "data": {
      "image/png": "[encoded data removed]",
      "text/plain": [
       "<matplotlib.figure.Figure at 0xc6f5750>"
      ]
     },
     "metadata": {},
     "output_type": "display_data"
    }
   ],
   "source": [
    "#Training and testing the data \n",
    "print(\"Mnist's Data \")\n",
    "outputdigits = networkRiti(784, 3, epoch, X__train, y__train, mnist_total_train_labelsize, learningrate=0.0001)\n",
    "TestModel = predict_Testdata(outputdigits,X__test,y__test, mnist_total_test_labelsize)"
   ]
  },
  {
   "cell_type": "markdown",
   "metadata": {},
   "source": [
    "### Observation - on MNIST Dataset\n",
    "\n",
    "After applying regularization to the weights:-\n",
    "1. There is a slight increase in both testing and training accuracy.\n",
    "2. The number of correctly predicted records from the test dataset is more.\n",
    "3. This shows that the performance of the model has improved."
   ]
  },
  {
   "cell_type": "markdown",
   "metadata": {},
   "source": [
    "Links used for the above enhancement:\n",
    "    \n",
    "1: https://stats.stackexchange.com/questions/141555/how-does-regularization-reduce-overfitting\n",
    "\n",
    "2: https://visualstudiomagazine.com/articles/2017/09/01/neural-network-l2.aspx"
   ]
  },
  {
   "cell_type": "code",
   "execution_count": null,
   "metadata": {},
   "outputs": [],
   "source": []
  }
 ],
 "metadata": {
  "kernelspec": {
   "display_name": "Python 3",
   "language": "python",
   "name": "python3"
  },
  "language_info": {
   "codemirror_mode": {
    "name": "ipython",
    "version": 3
   },
   "file_extension": ".py",
   "mimetype": "text/x-python",
   "name": "python",
   "nbconvert_exporter": "python",
   "pygments_lexer": "ipython3",
   "version": "3.6.4"
  }
 },
 "nbformat": 4,
 "nbformat_minor": 2
}
